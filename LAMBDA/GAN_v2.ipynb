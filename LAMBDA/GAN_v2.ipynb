{
 "cells": [
  {
   "cell_type": "markdown",
   "metadata": {},
   "source": [
    "## Config and importing"
   ]
  },
  {
   "cell_type": "code",
   "execution_count": 1,
   "metadata": {},
   "outputs": [
    {
     "name": "stderr",
     "output_type": "stream",
     "text": [
      "Using TensorFlow backend.\n"
     ]
    },
    {
     "name": "stdout",
     "output_type": "stream",
     "text": [
      "Populating the interactive namespace from numpy and matplotlib\n",
      "env: CUDA_VISIBLE_DEVICES=1,2,3,4\n"
     ]
    }
   ],
   "source": [
    "import sys\n",
    "import datetime\n",
    "\n",
    "import tensorflow as tf\n",
    "from keras import layers\n",
    "from keras.models import Sequential\n",
    "from keras import backend as K\n",
    "\n",
    "%pylab inline\n",
    "%env CUDA_VISIBLE_DEVICES=1,2,3,4\n",
    "\n",
    "sess = tf.InteractiveSession(config = tf.ConfigProto(gpu_options = tf.GPUOptions(allow_growth = True)))"
   ]
  },
  {
   "cell_type": "markdown",
   "metadata": {},
   "source": [
    "## Import data"
   ]
  },
  {
   "cell_type": "code",
   "execution_count": 34,
   "metadata": {
    "collapsed": true
   },
   "outputs": [],
   "source": [
    "f = open('data/electrons_log', 'rb')\n",
    "data = load(f, encoding='latin1')\n",
    "\n",
    "tanh_data = np.tanh(data)"
   ]
  },
  {
   "cell_type": "markdown",
   "metadata": {},
   "source": [
    "## Build generator"
   ]
  },
  {
   "cell_type": "code",
   "execution_count": 3,
   "metadata": {
    "collapsed": true
   },
   "outputs": [],
   "source": [
    "class CaloGAN():\n",
    "    def __init__():\n",
    "        pass\n",
    "    \n",
    "    def fit():\n",
    "        pass\n",
    "    \n",
    "    def predict():\n",
    "        pass"
   ]
  },
  {
   "cell_type": "code",
   "execution_count": 4,
   "metadata": {
    "collapsed": true
   },
   "outputs": [],
   "source": [
    "noise_shape = 100\n",
    "img_shape = (30, 30, 1)\n",
    "dropout = 0.3\n",
    "leak_slope = 0.2\n",
    "K.set_learning_phase(1)\n",
    "\n",
    "def build_generator_model(noise_shape):\n",
    "    generator = Sequential()\n",
    "    \n",
    "    generator.add(layers.InputLayer(input_shape=[noise_shape]))\n",
    "    generator.add(layers.Dense(7 * 7))\n",
    "    generator.add(layers.BatchNormalization())\n",
    "    generator.add(layers.Activation('relu'))\n",
    "    generator.add(layers.Reshape((7, 7, 1)))\n",
    "    generator.add(layers.Deconv2D(128, kernel_size=(5, 5)))\n",
    "    generator.add(layers.BatchNormalization())\n",
    "    generator.add(layers.Activation('relu'))\n",
    "    generator.add(layers.Deconv2D(128, kernel_size=(5, 5)))\n",
    "    generator.add(layers.BatchNormalization())\n",
    "    generator.add(layers.Activation('relu'))\n",
    "    generator.add(layers.Deconv2D(64, kernel_size=(5, 5)))\n",
    "    generator.add(layers.BatchNormalization())\n",
    "    generator.add(layers.Activation('relu'))\n",
    "    generator.add(layers.Deconv2D(64, kernel_size=(5, 5)))\n",
    "    generator.add(layers.BatchNormalization())\n",
    "    generator.add(layers.Activation('relu'))\n",
    "    generator.add(layers.Deconv2D(32, kernel_size=(4, 4)))\n",
    "    generator.add(layers.BatchNormalization())\n",
    "    generator.add(layers.Activation('relu'))\n",
    "    generator.add(layers.Deconv2D(32, kernel_size=(4, 4)))\n",
    "    generator.add(layers.BatchNormalization())\n",
    "    generator.add(layers.Activation('relu'))\n",
    "    generator.add(layers.Deconv2D(16, kernel_size=(4, 4)))\n",
    "    generator.add(layers.BatchNormalization())\n",
    "    generator.add(layers.Activation('relu'))\n",
    "    generator.add(layers.Conv2D(1, kernel_size=(3, 3), activation='tanh'))\n",
    "    \n",
    "#     generator.summary()\n",
    "    return generator\n",
    "\n",
    "def build_discriminator_model(img_shape):\n",
    "    discriminator = Sequential()\n",
    "    \n",
    "    discriminator.add(layers.InputLayer(img_shape))\n",
    "    discriminator.add(layers.Conv2D(32, kernel_size=(3, 3), strides=2))\n",
    "    discriminator.add(layers.LeakyReLU(leak_slope))\n",
    "    discriminator.add(layers.Conv2D(32, kernel_size=(3, 3)))\n",
    "    discriminator.add(layers.BatchNormalization())\n",
    "    discriminator.add(layers.LeakyReLU(leak_slope))\n",
    "    discriminator.add(layers.Conv2D(64, kernel_size=(3, 3)))\n",
    "    discriminator.add(layers.BatchNormalization())\n",
    "    discriminator.add(layers.LeakyReLU(leak_slope))\n",
    "    discriminator.add(layers.Conv2D(64, kernel_size=(3, 3), strides=2))\n",
    "    discriminator.add(layers.BatchNormalization())\n",
    "    discriminator.add(layers.LeakyReLU(leak_slope))\n",
    "    discriminator.add(layers.Conv2D(128, kernel_size=(3, 3)))\n",
    "    discriminator.add(layers.BatchNormalization())\n",
    "    discriminator.add(layers.LeakyReLU(leak_slope))\n",
    "    discriminator.add(layers.Flatten())\n",
    "    discriminator.add(layers.Dense(256))\n",
    "    discriminator.add(layers.BatchNormalization())\n",
    "    discriminator.add(layers.Activation('tanh'))\n",
    "    discriminator.add(layers.Dense(2, activation=tf.nn.log_softmax))\n",
    "        \n",
    "#     discriminator.summary()\n",
    "    return discriminator\n",
    "\n",
    "gen = build_generator_model(noise_shape)\n",
    "dis = build_discriminator_model(img_shape)"
   ]
  },
  {
   "cell_type": "code",
   "execution_count": 5,
   "metadata": {
    "collapsed": true
   },
   "outputs": [],
   "source": [
    "beta_1 = 0.5\n",
    "learning_rate = 0.0002\n",
    "\n",
    "noise = tf.placeholder(tf.float32, [None, noise_shape])\n",
    "real_data = tf.placeholder(tf.float32, [None,] + list(img_shape))\n",
    "\n",
    "discriminated_real_data = dis(real_data)\n",
    "\n",
    "generated_data = gen(noise)\n",
    "discriminated_generated_data = dis(generated_data)\n",
    "\n",
    "########################\n",
    "#discriminator training#\n",
    "########################\n",
    "discriminator_loss = -tf.reduce_mean(discriminated_generated_data[:, 0] + discriminated_real_data[:, 1])\n",
    "discriminator_loss += tf.reduce_mean(dis.layers[-1].kernel ** 2)\n",
    "\n",
    "discriminator_optimize = tf.train.GradientDescentOptimizer(learning_rate=0.001) \\\n",
    "                                .minimize(discriminator_loss, var_list=dis.trainable_weights)\n",
    "\n",
    "########################\n",
    "###generator training###\n",
    "########################\n",
    "generator_loss = -tf.reduce_mean(discriminated_generated_data[:, 1])\n",
    "\n",
    "generator_optimizer = tf.train.AdamOptimizer(learning_rate=learning_rate, beta1=beta_1) \\\n",
    "                                .minimize(generator_loss, var_list = gen.trainable_weights)\n",
    "\n",
    "sess.run(tf.global_variables_initializer())"
   ]
  },
  {
   "cell_type": "code",
   "execution_count": 13,
   "metadata": {
    "collapsed": true
   },
   "outputs": [],
   "source": [
    "gen.load_weights('upgrade_gen_model-Copy1.h5')\n",
    "dis.load_weights('upgrade_dis_model-Copy1.h5')"
   ]
  },
  {
   "cell_type": "code",
   "execution_count": 8,
   "metadata": {
    "collapsed": true
   },
   "outputs": [],
   "source": [
    "from matplotlib import patches\n",
    "\n",
    "NOISE_SHAPE = 100\n",
    "IMG_SHAPE = (30, 30, 1)\n",
    "\n",
    "global_data = tanh_data\n",
    "\n",
    "\n",
    "def sample_noise_batch(bsize):\n",
    "    return np.random.normal(loc=0, scale=0.02, size=(bsize, NOISE_SHAPE)).astype('float32')\n",
    "\n",
    "def sample_data_batch(bsize):\n",
    "    idxs = np.random.choice(np.arange(global_data.shape[0]), size=bsize)\n",
    "    return global_data[idxs].reshape((-1, 30, 30, 1))\n",
    "\n",
    "def sample_images(nrow, ncol, figsize=(17, 8)):\n",
    "    images = gen.predict(sample_noise_batch(bsize= nrow * ncol ))\n",
    "    if np.var(images)!= 0:\n",
    "        images = images.clip(np.min(global_data), np.max(global_data))\n",
    "    \n",
    "    fig, axes = plt.subplots(nrow, ncol, figsize=figsize)\n",
    "    \n",
    "            \n",
    "    if nrow == 1 or ncol == 1:\n",
    "        for i, i_axes, in enumerate(axes):\n",
    "            rect_1 = patches.Rectangle((14, 14), 2, 2, linewidth=1,edgecolor='b',facecolor='none')\n",
    "            rect_2 = patches.Rectangle((13, 13), 4, 4, linewidth=1,edgecolor='y',facecolor='none')\n",
    "            rect_3 = patches.Rectangle((12, 12), 6, 6, linewidth=1,edgecolor='r',facecolor='none')\n",
    "            \n",
    "            i_axes.imshow(np.exp(images[i]).reshape(30, 30), cmap=\"gray\", interpolation=\"none\")\n",
    "            i_axes.add_patch(rect_1)\n",
    "            i_axes.add_patch(rect_2)\n",
    "            i_axes.add_patch(rect_3)\n",
    "    else:\n",
    "        for i in range(nrow * ncol):\n",
    "            rect_1 = patches.Rectangle((14, 14), 2, 2, linewidth=1,edgecolor='b',facecolor='none')\n",
    "            rect_2 = patches.Rectangle((13, 13), 4, 4, linewidth=1,edgecolor='y',facecolor='none')\n",
    "            rect_3 = patches.Rectangle((12, 12), 6, 6, linewidth=1,edgecolor='r',facecolor='none')\n",
    "    \n",
    "            axes[i // ncol , i % ncol].imshow(np.exp(images[i]).reshape(30, 30), cmap=\"gray\", interpolation=\"none\")\n",
    "            axes[i // ncol , i % ncol].add_patch(rect_1)\n",
    "            axes[i // ncol , i % ncol].add_patch(rect_2)\n",
    "            axes[i // ncol , i % ncol].add_patch(rect_3)\n",
    "            \n",
    "    plt.show()\n",
    "\n",
    "def sample_probas(bsize, figsize=(17, 8)):\n",
    "    plt.figure(figsize=figsize)\n",
    "    plt.title('Generated vs real data')\n",
    "    plt.hist(np.exp(dis.predict(sample_data_batch(bsize)))[:,1],\n",
    "             label='D(x)', alpha=0.5,range=[0,1])\n",
    "    plt.hist(np.exp(dis.predict(gen.predict(sample_noise_batch(bsize))))[:,1],\n",
    "             label='D(G(z))',alpha=0.5,range=[0,1])\n",
    "    plt.legend(loc='best')\n",
    "    plt.show()\n",
    "\n",
    "def sample_data(batch_size):\n",
    "    return gen.predict(sample_noise_batch(batch_size)).reshape(-1, 30, 30)\n",
    "\n",
    "def save_models():\n",
    "    now = datetime.datetime.now().isoformat().split('T')[0]\n",
    "    gen.save(\"upgrade_gen_model+{}.h5\".format(now))\n",
    "    dis.save(\"upgrade_dis_model+{}.h5\".format(now))\n",
    "\n",
    "def joint_distribution(sample_data, real_data, figsize=(17, 8)):\n",
    "    plt.figure(figsize=figsize)\n",
    "    plt.hist(real_data.sum(axis=(1, 2)), label='real', bins=100, alpha=0.3)\n",
    "    plt.hist(sample_data.sum(axis=(1, 2)), label='gen', bins=100, alpha=0.3)\n",
    "    plt.title('all data')\n",
    "    plt.legend()\n",
    "#     plt.savefig('all_data.jpeg')\n",
    "    plt.show()\n",
    "    \n",
    "def full_vis(figsize):\n",
    "    sample_images(1, 2, figsize)\n",
    "    sample_probas(1000, figsize)\n",
    "    \n",
    "    sample_imgs = sample_data(4000)\n",
    "    joint_distribution(sample_imgs, global_data[:4000], figsize)\n",
    "    "
   ]
  },
  {
   "cell_type": "code",
   "execution_count": 61,
   "metadata": {
    "scrolled": false
   },
   "outputs": [
    {
     "name": "stdout",
     "output_type": "stream",
     "text": [
      "epoch 700\n"
     ]
    },
    {
     "data": {
      "image/png": "[encoded data removed]",
      "text/plain": [
       "<matplotlib.figure.Figure at 0x7f23a81de208>"
      ]
     },
     "metadata": {},
     "output_type": "display_data"
    },
    {
     "data": {
      "image/png": "[encoded data removed]",
      "text/plain": [
       "<matplotlib.figure.Figure at 0x7f23a3d1d198>"
      ]
     },
     "metadata": {},
     "output_type": "display_data"
    },
    {
     "data": {
      "image/png": "[encoded data removed]",
      "text/plain": [
       "<matplotlib.figure.Figure at 0x7f23a3c1def0>"
      ]
     },
     "metadata": {},
     "output_type": "display_data"
    },
    {
     "data": {
      "image/png": "[encoded data removed]",
      "text/plain": [
       "<matplotlib.figure.Figure at 0x7f23a3a42a90>"
      ]
     },
     "metadata": {},
     "output_type": "display_data"
    },
    {
     "name": "stdout",
     "output_type": "stream",
     "text": [
      "\n"
     ]
    },
    {
     "ename": "KeyboardInterrupt",
     "evalue": "",
     "output_type": "error",
     "traceback": [
      "\u001b[0;31m---------------------------------------------------------------------------\u001b[0m",
      "\u001b[0;31mKeyboardInterrupt\u001b[0m                         Traceback (most recent call last)",
      "\u001b[0;32m<ipython-input-61-387ac50a72e4>\u001b[0m in \u001b[0;36m<module>\u001b[0;34m()\u001b[0m\n\u001b[1;32m     12\u001b[0m \u001b[0;34m\u001b[0m\u001b[0m\n\u001b[1;32m     13\u001b[0m     \u001b[0;32mfor\u001b[0m \u001b[0mi\u001b[0m \u001b[0;32min\u001b[0m \u001b[0mrange\u001b[0m\u001b[0;34m(\u001b[0m\u001b[0;36m5\u001b[0m\u001b[0;34m)\u001b[0m\u001b[0;34m:\u001b[0m\u001b[0;34m\u001b[0m\u001b[0m\n\u001b[0;32m---> 14\u001b[0;31m         \u001b[0msess\u001b[0m\u001b[0;34m.\u001b[0m\u001b[0mrun\u001b[0m\u001b[0;34m(\u001b[0m\u001b[0mdiscriminator_optimize\u001b[0m\u001b[0;34m,\u001b[0m \u001b[0mfeed_dict\u001b[0m\u001b[0;34m)\u001b[0m\u001b[0;34m\u001b[0m\u001b[0m\n\u001b[0m\u001b[1;32m     15\u001b[0m \u001b[0;34m\u001b[0m\u001b[0m\n\u001b[1;32m     16\u001b[0m     \u001b[0msess\u001b[0m\u001b[0;34m.\u001b[0m\u001b[0mrun\u001b[0m\u001b[0;34m(\u001b[0m\u001b[0mgenerator_optimizer\u001b[0m\u001b[0;34m,\u001b[0m \u001b[0mfeed_dict\u001b[0m\u001b[0;34m)\u001b[0m\u001b[0;34m\u001b[0m\u001b[0m\n",
      "\u001b[0;32m/opt/conda/anaconda3/lib/python3.6/site-packages/tensorflow/python/client/session.py\u001b[0m in \u001b[0;36mrun\u001b[0;34m(self, fetches, feed_dict, options, run_metadata)\u001b[0m\n\u001b[1;32m    787\u001b[0m     \u001b[0;32mtry\u001b[0m\u001b[0;34m:\u001b[0m\u001b[0;34m\u001b[0m\u001b[0m\n\u001b[1;32m    788\u001b[0m       result = self._run(None, fetches, feed_dict, options_ptr,\n\u001b[0;32m--> 789\u001b[0;31m                          run_metadata_ptr)\n\u001b[0m\u001b[1;32m    790\u001b[0m       \u001b[0;32mif\u001b[0m \u001b[0mrun_metadata\u001b[0m\u001b[0;34m:\u001b[0m\u001b[0;34m\u001b[0m\u001b[0m\n\u001b[1;32m    791\u001b[0m         \u001b[0mproto_data\u001b[0m \u001b[0;34m=\u001b[0m \u001b[0mtf_session\u001b[0m\u001b[0;34m.\u001b[0m\u001b[0mTF_GetBuffer\u001b[0m\u001b[0;34m(\u001b[0m\u001b[0mrun_metadata_ptr\u001b[0m\u001b[0;34m)\u001b[0m\u001b[0;34m\u001b[0m\u001b[0m\n",
      "\u001b[0;32m/opt/conda/anaconda3/lib/python3.6/site-packages/tensorflow/python/client/session.py\u001b[0m in \u001b[0;36m_run\u001b[0;34m(self, handle, fetches, feed_dict, options, run_metadata)\u001b[0m\n\u001b[1;32m    995\u001b[0m     \u001b[0;32mif\u001b[0m \u001b[0mfinal_fetches\u001b[0m \u001b[0;32mor\u001b[0m \u001b[0mfinal_targets\u001b[0m\u001b[0;34m:\u001b[0m\u001b[0;34m\u001b[0m\u001b[0m\n\u001b[1;32m    996\u001b[0m       results = self._do_run(handle, final_targets, final_fetches,\n\u001b[0;32m--> 997\u001b[0;31m                              feed_dict_string, options, run_metadata)\n\u001b[0m\u001b[1;32m    998\u001b[0m     \u001b[0;32melse\u001b[0m\u001b[0;34m:\u001b[0m\u001b[0;34m\u001b[0m\u001b[0m\n\u001b[1;32m    999\u001b[0m       \u001b[0mresults\u001b[0m \u001b[0;34m=\u001b[0m \u001b[0;34m[\u001b[0m\u001b[0;34m]\u001b[0m\u001b[0;34m\u001b[0m\u001b[0m\n",
      "\u001b[0;32m/opt/conda/anaconda3/lib/python3.6/site-packages/tensorflow/python/client/session.py\u001b[0m in \u001b[0;36m_do_run\u001b[0;34m(self, handle, target_list, fetch_list, feed_dict, options, run_metadata)\u001b[0m\n\u001b[1;32m   1130\u001b[0m     \u001b[0;32mif\u001b[0m \u001b[0mhandle\u001b[0m \u001b[0;32mis\u001b[0m \u001b[0;32mNone\u001b[0m\u001b[0;34m:\u001b[0m\u001b[0;34m\u001b[0m\u001b[0m\n\u001b[1;32m   1131\u001b[0m       return self._do_call(_run_fn, self._session, feed_dict, fetch_list,\n\u001b[0;32m-> 1132\u001b[0;31m                            target_list, options, run_metadata)\n\u001b[0m\u001b[1;32m   1133\u001b[0m     \u001b[0;32melse\u001b[0m\u001b[0;34m:\u001b[0m\u001b[0;34m\u001b[0m\u001b[0m\n\u001b[1;32m   1134\u001b[0m       return self._do_call(_prun_fn, self._session, handle, feed_dict,\n",
      "\u001b[0;32m/opt/conda/anaconda3/lib/python3.6/site-packages/tensorflow/python/client/session.py\u001b[0m in \u001b[0;36m_do_call\u001b[0;34m(self, fn, *args)\u001b[0m\n\u001b[1;32m   1137\u001b[0m   \u001b[0;32mdef\u001b[0m \u001b[0m_do_call\u001b[0m\u001b[0;34m(\u001b[0m\u001b[0mself\u001b[0m\u001b[0;34m,\u001b[0m \u001b[0mfn\u001b[0m\u001b[0;34m,\u001b[0m \u001b[0;34m*\u001b[0m\u001b[0margs\u001b[0m\u001b[0;34m)\u001b[0m\u001b[0;34m:\u001b[0m\u001b[0;34m\u001b[0m\u001b[0m\n\u001b[1;32m   1138\u001b[0m     \u001b[0;32mtry\u001b[0m\u001b[0;34m:\u001b[0m\u001b[0;34m\u001b[0m\u001b[0m\n\u001b[0;32m-> 1139\u001b[0;31m       \u001b[0;32mreturn\u001b[0m \u001b[0mfn\u001b[0m\u001b[0;34m(\u001b[0m\u001b[0;34m*\u001b[0m\u001b[0margs\u001b[0m\u001b[0;34m)\u001b[0m\u001b[0;34m\u001b[0m\u001b[0m\n\u001b[0m\u001b[1;32m   1140\u001b[0m     \u001b[0;32mexcept\u001b[0m \u001b[0merrors\u001b[0m\u001b[0;34m.\u001b[0m\u001b[0mOpError\u001b[0m \u001b[0;32mas\u001b[0m \u001b[0me\u001b[0m\u001b[0;34m:\u001b[0m\u001b[0;34m\u001b[0m\u001b[0m\n\u001b[1;32m   1141\u001b[0m       \u001b[0mmessage\u001b[0m \u001b[0;34m=\u001b[0m \u001b[0mcompat\u001b[0m\u001b[0;34m.\u001b[0m\u001b[0mas_text\u001b[0m\u001b[0;34m(\u001b[0m\u001b[0me\u001b[0m\u001b[0;34m.\u001b[0m\u001b[0mmessage\u001b[0m\u001b[0;34m)\u001b[0m\u001b[0;34m\u001b[0m\u001b[0m\n",
      "\u001b[0;32m/opt/conda/anaconda3/lib/python3.6/site-packages/tensorflow/python/client/session.py\u001b[0m in \u001b[0;36m_run_fn\u001b[0;34m(session, feed_dict, fetch_list, target_list, options, run_metadata)\u001b[0m\n\u001b[1;32m   1119\u001b[0m         return tf_session.TF_Run(session, options,\n\u001b[1;32m   1120\u001b[0m                                  \u001b[0mfeed_dict\u001b[0m\u001b[0;34m,\u001b[0m \u001b[0mfetch_list\u001b[0m\u001b[0;34m,\u001b[0m \u001b[0mtarget_list\u001b[0m\u001b[0;34m,\u001b[0m\u001b[0;34m\u001b[0m\u001b[0m\n\u001b[0;32m-> 1121\u001b[0;31m                                  status, run_metadata)\n\u001b[0m\u001b[1;32m   1122\u001b[0m \u001b[0;34m\u001b[0m\u001b[0m\n\u001b[1;32m   1123\u001b[0m     \u001b[0;32mdef\u001b[0m \u001b[0m_prun_fn\u001b[0m\u001b[0;34m(\u001b[0m\u001b[0msession\u001b[0m\u001b[0;34m,\u001b[0m \u001b[0mhandle\u001b[0m\u001b[0;34m,\u001b[0m \u001b[0mfeed_dict\u001b[0m\u001b[0;34m,\u001b[0m \u001b[0mfetch_list\u001b[0m\u001b[0;34m)\u001b[0m\u001b[0;34m:\u001b[0m\u001b[0;34m\u001b[0m\u001b[0m\n",
      "\u001b[0;31mKeyboardInterrupt\u001b[0m: "
     ]
    }
   ],
   "source": [
    "from IPython import display\n",
    "from tqdm import tnrange\n",
    "\n",
    "loss_list = []\n",
    "prev_img = gen.predict(sample_noise_batch(1))[0, :, :, 0]\n",
    "for epoch in tnrange(50000):\n",
    "    \n",
    "    feed_dict = {\n",
    "        real_data : sample_data_batch(100),\n",
    "        noise : sample_noise_batch(100)\n",
    "    }\n",
    "    \n",
    "    for i in range(5):\n",
    "        sess.run(discriminator_optimize, feed_dict)\n",
    "    \n",
    "    sess.run(generator_optimizer, feed_dict)\n",
    "    \n",
    "    if epoch % 100 == 0:\n",
    "        save_models()\n",
    "        \n",
    "        display.clear_output()\n",
    "        print(\"epoch\", epoch)\n",
    "        \n",
    "        full_vis((17, 6))\n",
    "        \n",
    "        new_img = gen.predict(sample_noise_batch(1))[0, :, :, 0]\n",
    "        diff = np.linalg.norm(prev_img - new_img)\n",
    "        prev_img = new_img\n",
    "        loss_list.append(diff)\n",
    "        \n",
    "        plt.figure(figsize=(17, 6))\n",
    "        plt.xlabel('iter')\n",
    "        plt.ylabel('loss')\n",
    "        plt.plot(loss_list)\n",
    "        plt.show()"
   ]
  },
  {
   "cell_type": "code",
   "execution_count": 64,
   "metadata": {},
   "outputs": [
    {
     "data": {
      "image/png": "[encoded data removed]",
      "text/plain": [
       "<matplotlib.figure.Figure at 0x7f23a3a7b0b8>"
      ]
     },
     "metadata": {},
     "output_type": "display_data"
    }
   ],
   "source": [
    "sample_images(2, 2)"
   ]
  },
  {
   "cell_type": "code",
   "execution_count": 65,
   "metadata": {
    "collapsed": true
   },
   "outputs": [],
   "source": [
    "sample_imgs = sample_data(10000)"
   ]
  },
  {
   "cell_type": "code",
   "execution_count": 66,
   "metadata": {},
   "outputs": [
    {
     "data": {
      "image/png": "[encoded data removed]",
      "text/plain": [
       "<matplotlib.figure.Figure at 0x7f23a1d69f98>"
      ]
     },
     "metadata": {},
     "output_type": "display_data"
    }
   ],
   "source": [
    "plt.figure(figsize=(17, 6))\n",
    "plt.hist(tanh_data.sum(axis=(1, 2)), label='real', alpha=0.5)\n",
    "plt.hist(sample_imgs.sum(axis=(1, 2)), label='generated', alpha=.5)\n",
    "plt.show()"
   ]
  },
  {
   "cell_type": "code",
   "execution_count": 57,
   "metadata": {
    "collapsed": true
   },
   "outputs": [],
   "source": [
    "def second_moments(sample_imgs):\n",
    "    def common_energy(img):\n",
    "        return img.sum()\n",
    "    \n",
    "    def xx(img):\n",
    "#         print(img)\n",
    "        flatten_img = img.flatten()\n",
    "        s_xx = 0\n",
    "        center_index = img.shape[0] // 2\n",
    "        for energy_index in range(img.size):\n",
    "#             print(\"Current diff :{}\".format((energy_index % img.shape[0]) - center_index))\n",
    "            s_xx += flatten_img[energy_index] * \\\n",
    "                      np.power((energy_index % img.shape[0]) - center_index, 2)\n",
    "#         print(s_xx, common_energy(img))\n",
    "        return s_xx / common_energy(img)\n",
    "    \n",
    "    def yy(img):\n",
    "        return xx(img.T)\n",
    "    \n",
    "    def xy(img):\n",
    "        flatten_img = img.flatten()\n",
    "        center_index = img.shape[0] // 2\n",
    "        img_shape = img.shape[0]\n",
    "        s_xy = 0\n",
    "        for energy_index in range(img.size):\n",
    "            s_xy += flatten_img[energy_index] * ((energy_index % img_shape) - center_index) \\\n",
    "                        * ((energy_index // img_shape) - center_index)\n",
    "        return s_xy / common_energy(img)\n",
    "    \n",
    "    xx_list, yy_list, xy_list = [], [], []\n",
    "    for img in sample_imgs:\n",
    "        xx_list.append(xx(img))\n",
    "        yy_list.append(yy(img))\n",
    "        xy_list.append(xy(img))\n",
    "    \n",
    "    return np.array((xx_list, yy_list, xy_list))\n",
    "        \n",
    "#     print(sample_imgs.shape)\n",
    "sec_moment = second_moments(sample_imgs[:5000])"
   ]
  },
  {
   "cell_type": "code",
   "execution_count": 60,
   "metadata": {},
   "outputs": [
    {
     "data": {
      "image/png": "[encoded data removed]",
      "text/plain": [
       "<matplotlib.figure.Figure at 0x7f2405eb6518>"
      ]
     },
     "metadata": {},
     "output_type": "display_data"
    },
    {
     "data": {
      "image/png": "[encoded data removed]",
      "text/plain": [
       "<matplotlib.figure.Figure at 0x7f23a8131e10>"
      ]
     },
     "metadata": {},
     "output_type": "display_data"
    }
   ],
   "source": [
    "plt.hist(sec_moment[2], bins=25, label='xy', alpha=0.4)\n",
    "plt.legend()\n",
    "plt.savefig('xy.jpeg')\n",
    "plt.show()\n",
    "\n",
    "plt.hist(sec_moment[0], bins=25, label='xx', alpha=0.4)\n",
    "plt.hist(sec_moment[1], bins=25,label='yy', alpha=0.4)\n",
    "plt.legend()\n",
    "plt.savefig('xx, yy.jpeg')\n",
    "plt.show()"
   ]
  },
  {
   "cell_type": "code",
   "execution_count": null,
   "metadata": {
    "collapsed": true
   },
   "outputs": [],
   "source": []
  },
  {
   "cell_type": "code",
   "execution_count": 67,
   "metadata": {
    "collapsed": true
   },
   "outputs": [],
   "source": [
    "def foo(sample_data, real_data, x, y):\n",
    "    s_1 = sample_data[:, x:(y + 1), x]\n",
    "    s_2 = sample_data[:, x:(y + 1), y]\n",
    "    s_3 = sample_data[:, x, (x + 1):y]\n",
    "    s_4 = sample_data[:, y, (x + 1):y]\n",
    "    \n",
    "    s = np.hstack((s_1, s_2, s_3, s_4))\n",
    "    \n",
    "    r_1 = real_data[:, x:(y + 1), x]\n",
    "    r_2 = real_data[:, x:(y + 1), y]\n",
    "    r_3 = real_data[:, x, (x + 1):y]\n",
    "    r_4 = real_data[:, y, (x + 1):y]\n",
    "    \n",
    "    r = np.hstack((r_1, r_2, r_3, r_4))\n",
    "    \n",
    "    return s, r"
   ]
  },
  {
   "cell_type": "code",
   "execution_count": 71,
   "metadata": {},
   "outputs": [
    {
     "data": {
      "image/png": "[encoded data removed]",
      "text/plain": [
       "<matplotlib.figure.Figure at 0x7f23a1a99550>"
      ]
     },
     "metadata": {},
     "output_type": "display_data"
    }
   ],
   "source": [
    "s, r = foo(sample_imgs, tanh_data, 15, 16)\n",
    "s, r = np.exp(s), np.exp(r)\n",
    "\n",
    "plt.figure(figsize=(17, 5))\n",
    "plt.hist(r.sum(axis=1), label='real', alpha=0.5)\n",
    "plt.hist(s.sum(axis=1), label='generated', alpha=.5)\n",
    "plt.title(\"E0\")\n",
    "plt.legend()\n",
    "plt.savefig('E0.jpeg')ц\n",
    "plt.show()"
   ]
  },
  {
   "cell_type": "code",
   "execution_count": 72,
   "metadata": {},
   "outputs": [
    {
     "data": {
      "image/png": "[encoded data removed]",
      "text/plain": [
       "<matplotlib.figure.Figure at 0x7f23a8f24d30>"
      ]
     },
     "metadata": {},
     "output_type": "display_data"
    }
   ],
   "source": [
    "s, r = foo(sample_imgs, tanh_data, 14, 17)\n",
    "s, r = np.exp(s), np.exp(r)\n",
    "\n",
    "plt.figure(figsize=(17, 5))\n",
    "plt.hist(r.sum(axis=1), alpha=0.5, label=\"real\")\n",
    "plt.hist(s.sum(axis=1), alpha=0.5, label=\"generated\")\n",
    "plt.title(\"E1\")\n",
    "plt.legend()\n",
    "plt.savefig('E1.jpeg')\n",
    "plt.show()"
   ]
  },
  {
   "cell_type": "code",
   "execution_count": 73,
   "metadata": {},
   "outputs": [
    {
     "data": {
      "image/png": "[encoded data removed]",
      "text/plain": [
       "<matplotlib.figure.Figure at 0x7f23a8f172b0>"
      ]
     },
     "metadata": {},
     "output_type": "display_data"
    }
   ],
   "source": [
    "s, r = foo(sample_imgs, tanh_data, 13, 18)\n",
    "s, r = np.exp(s), np.exp(r)\n",
    "\n",
    "plt.figure(figsize=(17, 5))\n",
    "plt.hist(r.sum(axis=1), alpha=0.5, label=\"real\")\n",
    "plt.hist(s.sum(axis=1), alpha=0.5, label=\"generated\")\n",
    "plt.title(\"E2\")\n",
    "plt.legend()\n",
    "plt.savefig('E2.jpeg')\n",
    "plt.show()"
   ]
  },
  {
   "cell_type": "code",
   "execution_count": 74,
   "metadata": {},
   "outputs": [
    {
     "data": {
      "image/png": "[encoded data removed]",
      "text/plain": [
       "<matplotlib.figure.Figure at 0x7f23a1deb358>"
      ]
     },
     "metadata": {},
     "output_type": "display_data"
    }
   ],
   "source": [
    "s, r = foo(sample_imgs, tanh_data, 12, 19)\n",
    "s, r = np.exp(s), np.exp(r)\n",
    "\n",
    "plt.figure(figsize=(17, 5))\n",
    "plt.hist(r.sum(axis=1), alpha=0.5, label=\"real\")\n",
    "plt.hist(s.sum(axis=1), alpha=0.5, label=\"generated\")\n",
    "plt.title(\"E3\")\n",
    "plt.legend()\n",
    "plt.savefig('E3.jpeg')\n",
    "plt.show()"
   ]
  },
  {
   "cell_type": "code",
   "execution_count": 15,
   "metadata": {},
   "outputs": [
    {
     "name": "stderr",
     "output_type": "stream",
     "text": [
      "/opt/conda/anaconda3/lib/python3.6/site-packages/ipykernel_launcher.py:1: RuntimeWarning: divide by zero encountered in arctanh\n",
      "  \"\"\"Entry point for launching an IPython kernel.\n"
     ]
    }
   ],
   "source": [
    "arc_sample_imgs = np.arctanh(sample_imgs)\n",
    "\n",
    "# plt.imshow(arc_sample_imgs)"
   ]
  },
  {
   "cell_type": "code",
   "execution_count": 155,
   "metadata": {},
   "outputs": [
    {
     "data": {
      "text/plain": [
       "10.295762853650725"
      ]
     },
     "execution_count": 155,
     "metadata": {},
     "output_type": "execute_result"
    }
   ],
   "source": []
  },
  {
   "cell_type": "code",
   "execution_count": 16,
   "metadata": {},
   "outputs": [
    {
     "data": {
      "text/plain": [
       "(10000, 30, 30)"
      ]
     },
     "execution_count": 16,
     "metadata": {},
     "output_type": "execute_result"
    }
   ],
   "source": [
    "arc_sample_imgs.shape"
   ]
  },
  {
   "cell_type": "code",
   "execution_count": 19,
   "metadata": {
    "collapsed": true,
    "scrolled": false
   },
   "outputs": [],
   "source": [
    "f = open('data/electrons_log', 'rb')\n",
    "data = load(f, encoding='latin1')\n",
    "data[np.isneginf(data)] = 0\n",
    "\n",
    "arc_sample_imgs[np.isneginf(arc_sample_imgs)] = 0\n",
    "arc_sample_imgs[np.isinf(arc_sample_imgs)] = 10\n",
    "\n",
    "\n",
    "# plt.figure(figsize=(17, 6))\n",
    "# plt.hist(sample_imgs.flatten(), alpha=0.5)\n",
    "# plt.hist(data.flatten(), alpha=0.5)\n",
    "# plt.show()"
   ]
  },
  {
   "cell_type": "code",
   "execution_count": 26,
   "metadata": {},
   "outputs": [
    {
     "data": {
      "image/png": "[encoded data removed]",
      "text/plain": [
       "<matplotlib.figure.Figure at 0x7f277c5eb438>"
      ]
     },
     "metadata": {},
     "output_type": "display_data"
    }
   ],
   "source": [
    "plt.figure(figsize=(17, 7))\n",
    "plt.hist(tanh_data.sum(axis=(1, 2)), label='real', bins=100, alpha=0.3)\n",
    "plt.hist(sample_imgs.sum(axis=(1, 2)), label='gen', bins=100, alpha=0.3)\n",
    "plt.title('all data')\n",
    "plt.legend()\n",
    "plt.savefig('all_data.jpeg')\n",
    "plt.show()"
   ]
  },
  {
   "cell_type": "code",
   "execution_count": null,
   "metadata": {
    "collapsed": true
   },
   "outputs": [],
   "source": []
  },
  {
   "cell_type": "code",
   "execution_count": null,
   "metadata": {
    "collapsed": true
   },
   "outputs": [],
   "source": []
  },
  {
   "cell_type": "code",
   "execution_count": null,
   "metadata": {
    "collapsed": true
   },
   "outputs": [],
   "source": []
  },
  {
   "cell_type": "code",
   "execution_count": null,
   "metadata": {
    "collapsed": true
   },
   "outputs": [],
   "source": []
  }
 ],
 "metadata": {
  "kernelspec": {
   "display_name": "Python 3",
   "language": "python",
   "name": "python3"
  },
  "language_info": {
   "codemirror_mode": {
    "name": "ipython",
    "version": 3
   },
   "file_extension": ".py",
   "mimetype": "text/x-python",
   "name": "python",
   "nbconvert_exporter": "python",
   "pygments_lexer": "ipython3",
   "version": "3.6.1"
  }
 },
 "nbformat": 4,
 "nbformat_minor": 2
}
